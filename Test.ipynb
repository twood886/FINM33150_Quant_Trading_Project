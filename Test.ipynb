{
 "cells": [
  {
   "cell_type": "code",
   "execution_count": 1,
   "id": "4e0ff793",
   "metadata": {},
   "outputs": [
    {
     "name": "stdout",
     "output_type": "stream",
     "text": [
      "Collecting rpy2\n",
      "  Obtaining dependency information for rpy2 from https://files.pythonhosted.org/packages/15/fd/4eaaa52b19691423b4281a41c433b1bc1a3015343ffe2e2192b3fbee918c/rpy2-3.5.15-cp311-cp311-macosx_10_9_universal2.whl.metadata\n",
      "  Downloading rpy2-3.5.15-cp311-cp311-macosx_10_9_universal2.whl.metadata (4.5 kB)\n",
      "Requirement already satisfied: cffi>=1.10.0 in /Users/taylor/anaconda3/lib/python3.11/site-packages (from rpy2) (1.15.1)\n",
      "Requirement already satisfied: jinja2 in /Users/taylor/anaconda3/lib/python3.11/site-packages (from rpy2) (3.1.2)\n",
      "Collecting tzlocal (from rpy2)\n",
      "  Obtaining dependency information for tzlocal from https://files.pythonhosted.org/packages/97/3f/c4c51c55ff8487f2e6d0e618dba917e3c3ee2caae6cf0fbb59c9b1876f2e/tzlocal-5.2-py3-none-any.whl.metadata\n",
      "  Using cached tzlocal-5.2-py3-none-any.whl.metadata (7.8 kB)\n",
      "Requirement already satisfied: pycparser in /Users/taylor/anaconda3/lib/python3.11/site-packages (from cffi>=1.10.0->rpy2) (2.21)\n",
      "Requirement already satisfied: MarkupSafe>=2.0 in /Users/taylor/anaconda3/lib/python3.11/site-packages (from jinja2->rpy2) (2.1.1)\n",
      "Downloading rpy2-3.5.15-cp311-cp311-macosx_10_9_universal2.whl (299 kB)\n",
      "\u001b[2K   \u001b[90m━━━━━━━━━━━━━━━━━━━━━━━━━━━━━━━━━━━━━━━━\u001b[0m \u001b[32m299.9/299.9 kB\u001b[0m \u001b[31m5.1 MB/s\u001b[0m eta \u001b[36m0:00:00\u001b[0ma \u001b[36m0:00:01\u001b[0m\n",
      "\u001b[?25hUsing cached tzlocal-5.2-py3-none-any.whl (17 kB)\n",
      "Installing collected packages: tzlocal, rpy2\n",
      "Successfully installed rpy2-3.5.15 tzlocal-5.2\n"
     ]
    }
   ],
   "source": [
    "!pip install rpy2"
   ]
  }
 ],
 "metadata": {
  "kernelspec": {
   "display_name": "Python 3 (ipykernel)",
   "language": "python",
   "name": "python3"
  },
  "language_info": {
   "codemirror_mode": {
    "name": "ipython",
    "version": 3
   },
   "file_extension": ".py",
   "mimetype": "text/x-python",
   "name": "python",
   "nbconvert_exporter": "python",
   "pygments_lexer": "ipython3",
   "version": "3.11.5"
  }
 },
 "nbformat": 4,
 "nbformat_minor": 5
}
